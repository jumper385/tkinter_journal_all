{
 "cells": [
  {
   "cell_type": "code",
   "execution_count": 238,
   "metadata": {},
   "outputs": [],
   "source": [
    "from datetime import datetime\n",
    "import sqlite3\n",
    "from uuid import uuid4"
   ]
  },
  {
   "cell_type": "code",
   "execution_count": 259,
   "metadata": {},
   "outputs": [
    {
     "name": "stdout",
     "output_type": "stream",
     "text": [
      "[{}]\n"
     ]
    },
    {
     "ename": "OperationalError",
     "evalue": "incomplete input",
     "output_type": "error",
     "traceback": [
      "\u001b[1;31m---------------------------------------------------------------------------\u001b[0m",
      "\u001b[1;31mOperationalError\u001b[0m                          Traceback (most recent call last)",
      "\u001b[1;32m<ipython-input-259-5d457756638f>\u001b[0m in \u001b[0;36m<module>\u001b[1;34m\u001b[0m\n\u001b[0;32m     78\u001b[0m     \u001b[1;34m\"completed\"\u001b[0m\u001b[1;33m:\u001b[0m\u001b[1;34m\"Boolean\"\u001b[0m\u001b[1;33m\u001b[0m\u001b[1;33m\u001b[0m\u001b[0m\n\u001b[0;32m     79\u001b[0m })\n\u001b[1;32m---> 80\u001b[1;33m \u001b[0mdb\u001b[0m\u001b[1;33m.\u001b[0m\u001b[0mdelete\u001b[0m\u001b[1;33m(\u001b[0m\u001b[1;34m'notes'\u001b[0m\u001b[1;33m,\u001b[0m\u001b[1;33m[\u001b[0m\u001b[1;33m{\u001b[0m\u001b[1;33m}\u001b[0m\u001b[1;33m]\u001b[0m\u001b[1;33m)\u001b[0m\u001b[1;33m\u001b[0m\u001b[1;33m\u001b[0m\u001b[0m\n\u001b[0m",
      "\u001b[1;32m<ipython-input-259-5d457756638f>\u001b[0m in \u001b[0;36mdelete\u001b[1;34m(self, tablename, queries)\u001b[0m\n\u001b[0;32m     67\u001b[0m             \u001b[0mquery_string\u001b[0m \u001b[1;33m=\u001b[0m \u001b[1;34m\"WHERE \"\u001b[0m \u001b[1;33m+\u001b[0m \u001b[0mself\u001b[0m\u001b[1;33m.\u001b[0m\u001b[0mor_query\u001b[0m\u001b[1;33m(\u001b[0m\u001b[0mqueries\u001b[0m\u001b[1;33m)\u001b[0m \u001b[1;32mif\u001b[0m \u001b[0mlen\u001b[0m\u001b[1;33m(\u001b[0m\u001b[0mqueries\u001b[0m\u001b[1;33m)\u001b[0m \u001b[1;33m>\u001b[0m \u001b[1;36m0\u001b[0m \u001b[1;32melse\u001b[0m \u001b[1;34m''\u001b[0m\u001b[1;33m\u001b[0m\u001b[1;33m\u001b[0m\u001b[0m\n\u001b[0;32m     68\u001b[0m             \u001b[0mcommand\u001b[0m \u001b[1;33m=\u001b[0m \u001b[1;34mf\"DELETE FROM {tablename} \"\u001b[0m \u001b[1;33m+\u001b[0m \u001b[0mquery_string\u001b[0m\u001b[1;33m\u001b[0m\u001b[1;33m\u001b[0m\u001b[0m\n\u001b[1;32m---> 69\u001b[1;33m             \u001b[0mself\u001b[0m\u001b[1;33m.\u001b[0m\u001b[0mrun_command\u001b[0m\u001b[1;33m(\u001b[0m\u001b[0mcommand\u001b[0m\u001b[1;33m)\u001b[0m\u001b[1;33m\u001b[0m\u001b[1;33m\u001b[0m\u001b[0m\n\u001b[0m\u001b[0;32m     70\u001b[0m \u001b[1;33m\u001b[0m\u001b[0m\n\u001b[0;32m     71\u001b[0m \u001b[0mdb\u001b[0m \u001b[1;33m=\u001b[0m \u001b[0mDatabase\u001b[0m\u001b[1;33m(\u001b[0m\u001b[1;34m'example.db'\u001b[0m\u001b[1;33m)\u001b[0m\u001b[1;33m\u001b[0m\u001b[1;33m\u001b[0m\u001b[0m\n",
      "\u001b[1;32m<ipython-input-259-5d457756638f>\u001b[0m in \u001b[0;36mrun_command\u001b[1;34m(self, command)\u001b[0m\n\u001b[0;32m      9\u001b[0m         \u001b[0mdb\u001b[0m \u001b[1;33m=\u001b[0m \u001b[0msqlite3\u001b[0m\u001b[1;33m.\u001b[0m\u001b[0mconnect\u001b[0m\u001b[1;33m(\u001b[0m\u001b[0mself\u001b[0m\u001b[1;33m.\u001b[0m\u001b[0mdbfile\u001b[0m\u001b[1;33m)\u001b[0m\u001b[1;33m\u001b[0m\u001b[1;33m\u001b[0m\u001b[0m\n\u001b[0;32m     10\u001b[0m         \u001b[0mc\u001b[0m \u001b[1;33m=\u001b[0m \u001b[0mdb\u001b[0m\u001b[1;33m.\u001b[0m\u001b[0mcursor\u001b[0m\u001b[1;33m(\u001b[0m\u001b[1;33m)\u001b[0m\u001b[1;33m\u001b[0m\u001b[1;33m\u001b[0m\u001b[0m\n\u001b[1;32m---> 11\u001b[1;33m         \u001b[0mc\u001b[0m\u001b[1;33m.\u001b[0m\u001b[0mexecute\u001b[0m\u001b[1;33m(\u001b[0m\u001b[0mcommand\u001b[0m\u001b[1;33m)\u001b[0m\u001b[1;33m\u001b[0m\u001b[1;33m\u001b[0m\u001b[0m\n\u001b[0m\u001b[0;32m     12\u001b[0m         \u001b[0mdb\u001b[0m\u001b[1;33m.\u001b[0m\u001b[0mcommit\u001b[0m\u001b[1;33m(\u001b[0m\u001b[1;33m)\u001b[0m\u001b[1;33m\u001b[0m\u001b[1;33m\u001b[0m\u001b[0m\n\u001b[0;32m     13\u001b[0m         \u001b[0mdb\u001b[0m\u001b[1;33m.\u001b[0m\u001b[0mclose\u001b[0m\u001b[1;33m(\u001b[0m\u001b[1;33m)\u001b[0m\u001b[1;33m\u001b[0m\u001b[1;33m\u001b[0m\u001b[0m\n",
      "\u001b[1;31mOperationalError\u001b[0m: incomplete input"
     ]
    }
   ],
   "source": [
    "class Database:\n",
    "    \"\"\"this is a database class - current 1hr\"\"\"\n",
    "    def __init__(self, dbfile):\n",
    "        \"\"\"initialize the db class\"\"\"\n",
    "        self.dbfile = dbfile\n",
    "        \n",
    "    def run_command(self, command):\n",
    "        \"\"\"runs a command and commits changes\"\"\"\n",
    "        db = sqlite3.connect(self.dbfile)\n",
    "        c = db.cursor()\n",
    "        c.execute(command)\n",
    "        db.commit()\n",
    "        db.close()\n",
    "        \n",
    "    def dict_to_sql(self, dictionary):\n",
    "        \"\"\"changes a dictionary into a sql data injection\"\"\"\n",
    "        return \", \".join([f\"{key}='{value}'\" for key, value in dictionary.items()]) if dictionary else ''\n",
    "        \n",
    "    def make_query(self, query):\n",
    "        \"\"\"changes a dictionary query into an AND statement query\"\"\"\n",
    "        string_comm = \" AND \".join([f\"{key}='{value}'\" for key, value in query.items()]) if query else ''\n",
    "        return string_comm\n",
    "        \n",
    "    def or_query(self, queries):\n",
    "        \"\"\"changes an array of dictionaries into OR and AND statement queries\"\"\"\n",
    "        string_comm = \" OR \".join([self.make_query(query) for query in queries])\n",
    "        return string_comm\n",
    "        \n",
    "    def create_table(self, name, structure):\n",
    "        \"\"\"creates a new table\"\"\"\n",
    "        structure = ', '.join([f'{key} {value}' for key, value in structure.items()])\n",
    "        command = f'CREATE TABLE IF NOT EXISTS {name} ({structure})'\n",
    "        self.run_command(command)\n",
    "        \n",
    "    def post(self, tablename, payload):\n",
    "        \"\"\"creates a new row in the table\"\"\"\n",
    "        data = \", \".join([f\"'{value}'\" for key, value in payload.items()])\n",
    "        cols = \", \".join([f\"{key}\" for key, value in payload.items()])\n",
    "        command = f'INSERT INTO {tablename} ({cols}) VALUES({data})'\n",
    "        \n",
    "        self.run_command(command)\n",
    "        \n",
    "    def get(self, tablename, queries=None, cols='*'):\n",
    "        \"\"\"gets a list of arrays from a specific query\"\"\"\n",
    "        db = sqlite3.connect(self.dbfile)\n",
    "        c = db.cursor()\n",
    "        query_string = 'WHERE ' + self.or_query(queries) if len(queries) > 0 else ''\n",
    "        command = f'SELECT {cols} FROM {tablename} ' + query_string\n",
    "        c.execute(command)\n",
    "        query = c.fetchall()\n",
    "        db.close()\n",
    "        return query\n",
    "    \n",
    "    def put(self, tablename, payload, queries):\n",
    "        \"\"\"changes queries to the payload\"\"\"\n",
    "        if len(queries) > 0:\n",
    "            query_string = 'WHERE ' + self.or_query(queries)\n",
    "            command = f\"UPDATE {tablename} SET {self.dict_to_sql(payload)}\" + query_string\n",
    "            self.run_command(command)\n",
    "        \n",
    "    def delete(self, tablename, queries):\n",
    "        \"\"\"deletes a query\"\"\"\n",
    "        \n",
    "        print([*map(lambda x: x, queries)])\n",
    "        \n",
    "        if len(queries) > 0:\n",
    "            query_string = \"WHERE \" + self.or_query(queries) if len(queries) > 0 else ''\n",
    "            command = f\"DELETE FROM {tablename} \" + query_string\n",
    "            self.run_command(command)\n",
    "        \n",
    "db = Database('example.db')\n",
    "db.create_table('notes',{\n",
    "    \"id\":\"Text\",\n",
    "    \"timestamp\":\"Date\",\n",
    "    \"content\":\"Text\",\n",
    "    \"is_action\":\"Boolean\",\n",
    "    \"tags\":\"Text\",\n",
    "    \"completed\":\"Boolean\"\n",
    "})\n",
    "db.delete('notes',[{}])"
   ]
  },
  {
   "cell_type": "code",
   "execution_count": 249,
   "metadata": {},
   "outputs": [],
   "source": [
    "def delete_note(db, ids=[]):\n",
    "    if len(ids) > 0:\n",
    "        comm = [{'id':x} for x in ids]\n",
    "        db.delete('notes', comm)\n",
    "        return f'deleted {ids}'\n",
    "    else:\n",
    "        return f'nothing was deleted'\n",
    "\n",
    "print(delete_note(db))\n",
    "delete_note(db,[\n",
    "    'df1bbbd5-b118-4238-97b4-2b0fd6968f1a',\n",
    "    '8232e699-3eaf-4de6-a6cf-06e054b5f91c'\n",
    "])"
   ]
  },
  {
   "cell_type": "code",
   "execution_count": 253,
   "metadata": {},
   "outputs": [],
   "source": [
    "def new_note(db, content, is_action, tags, date=datetime.now()):\n",
    "    \"\"\"creates a new note entry that defaults to the current date\"\"\"\n",
    "    new_post = {\n",
    "        \"id\":uuid4(),\n",
    "        \"timestamp\":date,\n",
    "        \"content\":content,\n",
    "        \"is_action\":is_action,\n",
    "        \"tags\":';'.join(tags)\n",
    "    }\n",
    "    \n",
    "    db.post('notes', new_post)\n",
    "    new_data = db.get('notes', queries=[new_post])\n",
    "    return new_data\n",
    "\n",
    "# new_note(db, 'this is a new thing', True, ['cool'])"
   ]
  },
  {
   "cell_type": "code",
   "execution_count": 254,
   "metadata": {},
   "outputs": [],
   "source": [
    "def get_note(db, queries=None):\n",
    "    return db.get('notes', queries=queries)\n",
    "\n",
    "# get_note(db, [{'is_action':True}])"
   ]
  },
  {
   "cell_type": "code",
   "execution_count": 255,
   "metadata": {},
   "outputs": [],
   "source": [
    "def edit_note(db, changes, ids=[]):\n",
    "    if len(ids) > 0:\n",
    "        db.put('notes', changes, [{'id':x for x in ids}])\n",
    "        return db.get('notes', queries=[{'id': x for x in ids}] )\n",
    "    else: \n",
    "        return 'nothing was changed'\n",
    "    \n",
    "# print(edit_note(db, {'content':'hello...'}))\n",
    "# print(edit_note(db, {'content':'this is not a hello world anymore'}, ids=['93061bd8-7402-40fa-81d8-47e0b058a1ca']))"
   ]
  },
  {
   "cell_type": "code",
   "execution_count": null,
   "metadata": {},
   "outputs": [],
   "source": []
  },
  {
   "cell_type": "code",
   "execution_count": null,
   "metadata": {},
   "outputs": [],
   "source": []
  }
 ],
 "metadata": {
  "kernelspec": {
   "display_name": "Python 3.7.4 64-bit",
   "language": "python",
   "name": "python37464bitec288e67511c402d9637e812168a4c21"
  },
  "language_info": {
   "codemirror_mode": {
    "name": "ipython",
    "version": 3
   },
   "file_extension": ".py",
   "mimetype": "text/x-python",
   "name": "python",
   "nbconvert_exporter": "python",
   "pygments_lexer": "ipython3",
   "version": "3.7.4"
  }
 },
 "nbformat": 4,
 "nbformat_minor": 2
}
