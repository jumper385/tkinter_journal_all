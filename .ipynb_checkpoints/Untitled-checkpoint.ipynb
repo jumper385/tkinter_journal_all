{
 "cells": [
  {
   "cell_type": "code",
   "execution_count": 1,
   "metadata": {},
   "outputs": [],
   "source": [
    "import sqlite3\n",
    "import datetime as dt\n",
    "from uuid import uuid4"
   ]
  },
  {
   "cell_type": "code",
   "execution_count": 2,
   "metadata": {},
   "outputs": [],
   "source": [
    "def init_db_cursor(dbname):\n",
    "    conn = sqlite3.connect(dbname)\n",
    "    cursor = conn.cursor()\n",
    "    return conn, cursor\n",
    "\n",
    "db, c = init_db_cursor('journal.db')"
   ]
  },
  {
   "cell_type": "code",
   "execution_count": 3,
   "metadata": {},
   "outputs": [],
   "source": [
    "def make_tag(db, cursor, tag):\n",
    "    _id = uuid4()\n",
    "    \n",
    "    cursor.execute(f\"\"\"\n",
    "        CREATE TABLE IF NOT EXISTS tag (\n",
    "            tagid text PRIMARY KEY,\n",
    "            name text\n",
    "        )\n",
    "    \"\"\")\n",
    "    \n",
    "    if tag:\n",
    "        cursor.execute(f\"\"\"\n",
    "            INSERT INTO tag (tagid, name)\n",
    "            VALUES ('{_id}', '{tag}')\n",
    "        \"\"\")\n",
    "    \n",
    "        db.commit()\n",
    "    \n",
    "    return _id"
   ]
  },
  {
   "cell_type": "code",
   "execution_count": 4,
   "metadata": {},
   "outputs": [],
   "source": [
    "def edit_tag(db, cursor, tagid, name):\n",
    "    cursor.execute(f\"\"\"\n",
    "        UPDATE tag\n",
    "        SET name='{name}'\n",
    "        WHERE tagid='{tagid}'\n",
    "    \"\"\")\n",
    "    db.commit()"
   ]
  },
  {
   "cell_type": "code",
   "execution_count": 5,
   "metadata": {},
   "outputs": [],
   "source": [
    "def get_tag(db, cursor, query=None):\n",
    "    if query:\n",
    "        cursor.execute(f\"\"\"\n",
    "            SELECT * FROM tag\n",
    "            WHERE {', '.join(f\"{key}='{value}'\" for key, value in query.items())}\n",
    "        \"\"\")\n",
    "    else:\n",
    "        cursor.execute(f\"\"\"\n",
    "            SELECT * FROM tag\n",
    "        \"\"\")\n",
    "    return c.fetchone()"
   ]
  },
  {
   "cell_type": "code",
   "execution_count": 6,
   "metadata": {},
   "outputs": [],
   "source": [
    "def delete_tag(db, cursor, tagid):\n",
    "    cursor.execute(f\"\"\"\n",
    "        DELETE FROM tag\n",
    "        WHERE tagid='{tagid}'\n",
    "    \"\"\")\n",
    "    db.commit()"
   ]
  },
  {
   "cell_type": "code",
   "execution_count": 7,
   "metadata": {},
   "outputs": [],
   "source": [
    "def make_entry_tag(db, cursor, entryid, tagid):\n",
    "    cursor.execute(\"\"\"\n",
    "        CREATE TABLE IF NOT EXISTS entry_tag (\n",
    "            entryid text,\n",
    "            tagid text, \n",
    "            FOREIGN KEY (entryid)\n",
    "                REFERENCES entry (id)\n",
    "            FOREIGN KEY (tagid)\n",
    "                REFERENCES tag (id)\n",
    "        )\n",
    "    \"\"\")\n",
    "    cursor.execute(f\"\"\"\n",
    "        INSERT INTO entry_tag (entryid, tagid)\n",
    "        VALUES ('{entryid}', '{tagid}')\n",
    "    \"\"\")\n",
    "    \n",
    "    db.commit()"
   ]
  },
  {
   "cell_type": "code",
   "execution_count": 8,
   "metadata": {},
   "outputs": [],
   "source": [
    "def delete_entry_tag(db, cursor, entryid, tagid):\n",
    "    cursor.execute(f\"\"\"\n",
    "        DELETE FROM entry_tag\n",
    "        WHERE entryid='{entryid}' {f\"AND tagid='{tagid}'\" if tagid else ''}\n",
    "    \"\"\")\n",
    "    db.commit()"
   ]
  },
  {
   "cell_type": "code",
   "execution_count": 18,
   "metadata": {},
   "outputs": [],
   "source": [
    "def make_entry_collection(db, cursor):\n",
    "    cursor.execute(\"\"\"\n",
    "        CREATE TABLE IF NOT EXISTS entry (\n",
    "            id text PRIMARY KEY, \n",
    "            title text,\n",
    "            entry text,\n",
    "            is_action boolean, \n",
    "            timestamp date,\n",
    "            tags text\n",
    "        )\n",
    "    \"\"\")\n",
    "    db.commit()\n",
    "    \n",
    "make_entry_collection(db, c)\n",
    "\n",
    "def make_entry(db, cursor, entries):\n",
    "    _id = uuid4()\n",
    "    \n",
    "    defaults = {\n",
    "        'id':_id,\n",
    "        'is_action':False,\n",
    "        'timestamp':dt.datetime.now()\n",
    "    }\n",
    "    \n",
    "    entry = {**defaults, **entries}\n",
    "    \n",
    "    cursor.execute(\"\"\"\n",
    "        CREATE TABLE IF NOT EXISTS entry (\n",
    "            id text PRIMARY KEY, \n",
    "            title text,\n",
    "            entry text,\n",
    "            is_action boolean, \n",
    "            timestamp date,\n",
    "        )\n",
    "    \"\"\")\n",
    "    \n",
    "    cursor.execute(f\"\"\"\n",
    "        INSERT INTO entry ({', '.join([x for x in entry.keys()])})\n",
    "        VALUES ({', '.join([f\"'{x}'\" for x in entry.values()])})\n",
    "    \"\"\")\n",
    "    \n",
    "    db.commit()\n",
    "    return _id"
   ]
  },
  {
   "cell_type": "code",
   "execution_count": 19,
   "metadata": {},
   "outputs": [],
   "source": [
    "def delete_entry(db, cursor, _id):\n",
    "    cursor.execute(f\"\"\"\n",
    "        DELETE FROM entry\n",
    "        WHERE id='{_id}'\n",
    "    \"\"\")\n",
    "    db.commit()"
   ]
  },
  {
   "cell_type": "code",
   "execution_count": 20,
   "metadata": {},
   "outputs": [],
   "source": [
    "def edit_entry(db, cursor, _id, delta):\n",
    "    print(delta)\n",
    "    delta_string = \", \".join([f\"\"\"{field} = '{data}'\"\"\" for field, data in delta.items()])\n",
    "    cursor.execute(f\"\"\"\n",
    "        UPDATE entry\n",
    "        SET {delta_string}\n",
    "        WHERE id='{_id}'\n",
    "    \"\"\")\n",
    "    db.commit()"
   ]
  },
  {
   "cell_type": "code",
   "execution_count": 21,
   "metadata": {},
   "outputs": [],
   "source": [
    "def get_entry(db, cursor, fields=None, query=None):\n",
    "    if query:\n",
    "        query_string = \", \".join([f\"{key}='{value}'\" for key,value in query.items()])\n",
    "        cursor.execute(f\"\"\"\n",
    "            SELECT {', '.join(fields)} FROM entry\n",
    "            WHERE {query_string}\n",
    "        \"\"\")\n",
    "    else: \n",
    "        cursor.execute(f\"\"\"\n",
    "            SELECT {', '.join(fields)} FROM entry\n",
    "        \"\"\")\n",
    "    formatted = [dict(zip(fields, values)) for values in c.fetchall()]\n",
    "    return formatted"
   ]
  },
  {
   "cell_type": "code",
   "execution_count": 22,
   "metadata": {},
   "outputs": [],
   "source": [
    "def make_note(db, cursor, entry):\n",
    "    tags = entry['tags']\n",
    "    note = {key:value for key,value in entry.items() if key != 'tags'}\n",
    "    _id = make_entry(db, cursor, note)\n",
    "    make_tag(db,cursor,None)\n",
    "    \n",
    "    for tag in tags:\n",
    "        tag_query = get_tag(db, c, {'name':tag})\n",
    "\n",
    "        if tag_query:\n",
    "            tagid, name = tag_query\n",
    "        else: \n",
    "            tagid = make_tag(db,c,tag)\n",
    "        \n",
    "        make_entry_tag(db, c, _id, tagid)\n",
    "    \n",
    "    return _id"
   ]
  },
  {
   "cell_type": "code",
   "execution_count": 23,
   "metadata": {},
   "outputs": [],
   "source": [
    "def delete_note(db, cursor, entryid):\n",
    "    delete_entry(db, cursor, entryid)\n",
    "    delete_entry_tag(db, cursor, entryid, None)"
   ]
  },
  {
   "cell_type": "code",
   "execution_count": 24,
   "metadata": {},
   "outputs": [],
   "source": [
    "def get_string_note(db, cursor, string_query):\n",
    "    cursor.execute(f\"\"\"\n",
    "        SELECT * FROM entry\n",
    "        WHERE entry LIKE '%{string_query}%' OR title LIKE '%{string_query}%'\n",
    "    \"\"\")\n",
    "    return cursor.fetchall()"
   ]
  },
  {
   "cell_type": "code",
   "execution_count": 25,
   "metadata": {},
   "outputs": [],
   "source": [
    "import tkinter as tk\n",
    "from tkinter import *"
   ]
  },
  {
   "cell_type": "code",
   "execution_count": 29,
   "metadata": {},
   "outputs": [
    {
     "name": "stderr",
     "output_type": "stream",
     "text": [
      "Exception in Tkinter callback\n",
      "Traceback (most recent call last):\n",
      "  File \"c:\\users\\henry\\appdata\\local\\programs\\python\\python37\\lib\\tkinter\\__init__.py\", line 1705, in __call__\n",
      "    return self.func(*args)\n",
      "  File \"<ipython-input-29-c063aa47e8f5>\", line 15, in create_entries\n",
      "    'timestamp':timestamp\n",
      "  File \"<ipython-input-22-79a66437c694>\", line 4, in make_note\n",
      "    _id = make_entry(db, cursor, note)\n",
      "  File \"<ipython-input-18-d5ddeb3d4408>\", line 35, in make_entry\n",
      "    \"\"\")\n",
      "sqlite3.OperationalError: near \")\": syntax error\n"
     ]
    }
   ],
   "source": [
    "root = Tk()\n",
    "\n",
    "def create_entries():\n",
    "    \n",
    "    if date_entry_input.get():\n",
    "        timestamp = dt.datetime.strptime(date_entry_input.get(), \"%d/%m/%Y %H:%M\")\n",
    "    else:\n",
    "        timestamp = dt.datetime.now()\n",
    "    \n",
    "    data = make_note(db, c, {\n",
    "        'title':entry_title_input.get(),\n",
    "        'entry':entry_detail_input.get(),\n",
    "        'is_action':bool_var.get(),\n",
    "        'tags':entry_tag_input.get().strip().split(';'),\n",
    "        'timestamp':timestamp\n",
    "    })\n",
    "    \n",
    "    print(entry_title_input.get())\n",
    "    \n",
    "    date_entry_input.delete(0, 'end')\n",
    "    entry_title_input.delete(0, 'end')\n",
    "    entry_detail_input.delete(0, 'end')\n",
    "    bool_var.set(False)\n",
    "    entry_tag_input.delete(0, 'end')\n",
    "    \n",
    "    for index, entry in enumerate(get_entry(db, c, fields=['id','title','timestamp'])[-10:-1]):\n",
    "        entry_array[index]['text'] = \"{:20} {:}\".format(entry['title'], entry['timestamp'])\n",
    "        entry_array[index]['command'] = show_note(entry['id'])\n",
    "\n",
    "entry_create_frame = LabelFrame(root, text='Entry Creator')\n",
    "entry_list_frame = LabelFrame(root, text='Recent Entries')\n",
    "entry_view_frame = LabelFrame(root, text=\"Entry Viewer\")\n",
    "\n",
    "entry_title_label = Label(entry_create_frame, text=\"Create an Entry\")\n",
    "entry_title_input = Entry(entry_create_frame)\n",
    "\n",
    "entry_detail_label = Label(entry_create_frame, text=\"Add Entry Details\")\n",
    "entry_detail_input = Entry(entry_create_frame)\n",
    "\n",
    "entry_tag_label = Label(entry_create_frame, text=\"Add Relevant Tags\")\n",
    "entry_tag_input = Entry(entry_create_frame)\n",
    "\n",
    "entry_tag_label = Label(entry_create_frame, text=\"Add Relevant Tags\")\n",
    "entry_tag_input = Entry(entry_create_frame)\n",
    "\n",
    "date_entry_label = Label(entry_create_frame, text=\"Select a Date\")\n",
    "date_entry_input = Entry(entry_create_frame)\n",
    "\n",
    "#Entry Viewer Widgets\n",
    "\n",
    "def show_note(entry_id):\n",
    "    def wrapper(_id=entry_id):\n",
    "        print(entry_id)\n",
    "        data = get_entry(db, c, ['id','title', 'timestamp', {'id':entry_id}])\n",
    "        print(data)\n",
    "        entry_view_title['text'] = entry_id\n",
    "    return wrapper\n",
    "\n",
    "entry_view_title = Label(entry_view_frame, text=\"Select an Entry\")\n",
    "entry_view_title.grid(column=0,row=0)\n",
    "\n",
    "entry_date_display = Label(entry_view_frame, )\n",
    "entry_date_display.grid(column=0,row=1)\n",
    "\n",
    "bool_var = BooleanVar()\n",
    "entry_action_tickbox = Checkbutton(entry_create_frame, text=\"Actionable Item\", variable=bool_var)\n",
    "\n",
    "submit_entry = Button(entry_create_frame, text='Submit', command=create_entries)\n",
    "\n",
    "length = 10\n",
    "entry_array = [Button(entry_list_frame) for x in range(0,length)]\n",
    "\n",
    "for index, entry in enumerate(get_entry(db, c, fields=['id','title','timestamp'])[-10:-1]):\n",
    "        entry_array[index]['text'] = \"{:20} {:}\".format(entry['title'], entry['timestamp'])\n",
    "        entry_array[index]['command'] = show_note(entry['id'])\n",
    "        \n",
    "for index, entry_row in enumerate(entry_array):\n",
    "    entry_row.grid(column=0, row=index)\n",
    "\n",
    "entry_create_frame.grid(column=0, row=0, sticky=\"ns\")\n",
    "entry_list_frame.grid(column=1, row=0)\n",
    "entry_view_frame.grid(column=2, row=0)\n",
    "\n",
    "entry_title_label.grid(column=0, row=0)\n",
    "entry_title_input.grid(column=1, row=0)\n",
    "\n",
    "entry_tag_label.grid(column=0, row=1)\n",
    "entry_tag_input.grid(column=1, row=1)\n",
    "\n",
    "date_entry_label.grid(column=0, row=2)\n",
    "date_entry_input.grid(column=1, row=2)\n",
    "\n",
    "entry_action_tickbox.grid(column=0, row=3, columnspan=2)\n",
    "submit_entry.grid(column=0,row=4,columnspan=2)\n",
    "\n",
    "root.mainloop()"
   ]
  },
  {
   "cell_type": "code",
   "execution_count": 27,
   "metadata": {},
   "outputs": [
    {
     "data": {
      "text/plain": [
       "[]"
      ]
     },
     "execution_count": 27,
     "metadata": {},
     "output_type": "execute_result"
    }
   ],
   "source": [
    "get_entry(db, c, fields=['id','timestamp','title'])"
   ]
  },
  {
   "cell_type": "code",
   "execution_count": null,
   "metadata": {},
   "outputs": [],
   "source": []
  },
  {
   "cell_type": "code",
   "execution_count": null,
   "metadata": {},
   "outputs": [],
   "source": []
  }
 ],
 "metadata": {
  "kernelspec": {
   "display_name": "Python 3",
   "language": "python",
   "name": "python3"
  },
  "language_info": {
   "codemirror_mode": {
    "name": "ipython",
    "version": 3
   },
   "file_extension": ".py",
   "mimetype": "text/x-python",
   "name": "python",
   "nbconvert_exporter": "python",
   "pygments_lexer": "ipython3",
   "version": "3.7.4"
  }
 },
 "nbformat": 4,
 "nbformat_minor": 2
}
