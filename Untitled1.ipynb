{
 "cells": [
  {
   "cell_type": "code",
   "execution_count": 10,
   "metadata": {},
   "outputs": [
    {
     "name": "stdout",
     "output_type": "stream",
     "text": [
      "cass says: i love you\n",
      "henry says: i love you x 2\n",
      "cass says: i love you x 10\n",
      "['i love you ', ' 10']\n",
      "henry says: i love you x 12\n",
      "cass says: i love \n",
      "henry says: hehe i win\n"
     ]
    }
   ],
   "source": [
    "def main():\n",
    "    \n",
    "    counter = 0;\n",
    "    \n",
    "    for i in range(0,1000):\n",
    "        \n",
    "        cass_input = input(\"cass says: \").lower()\n",
    "\n",
    "        if cass_input == \"i love you\":\n",
    "            counter += 1\n",
    "            print(f\"henry says: i love you x {counter + 1}\")\n",
    "            \n",
    "        elif cass_input.split('x')[0].strip() == 'i love you':\n",
    "            counter += int(cass_input.split('x')[-1].strip())\n",
    "            print(f\"henry says: i love you x {counter + 1}\")\n",
    "            \n",
    "        else:\n",
    "            break\n",
    "            \n",
    "    print('henry says: hehe i win')\n",
    "    \n",
    "main()"
   ]
  },
  {
   "cell_type": "code",
   "execution_count": null,
   "metadata": {},
   "outputs": [],
   "source": []
  }
 ],
 "metadata": {
  "kernelspec": {
   "display_name": "Python 3.7.4 64-bit",
   "language": "python",
   "name": "python37464bitec288e67511c402d9637e812168a4c21"
  },
  "language_info": {
   "codemirror_mode": {
    "name": "ipython",
    "version": 3
   },
   "file_extension": ".py",
   "mimetype": "text/x-python",
   "name": "python",
   "nbconvert_exporter": "python",
   "pygments_lexer": "ipython3",
   "version": "3.7.4"
  }
 },
 "nbformat": 4,
 "nbformat_minor": 2
}
