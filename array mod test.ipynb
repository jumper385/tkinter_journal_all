{
 "cells": [
  {
   "cell_type": "code",
   "execution_count": 1,
   "metadata": {},
   "outputs": [],
   "source": [
    "import tkinter as tk\n",
    "from tkinter import *"
   ]
  },
  {
   "cell_type": "code",
   "execution_count": 15,
   "metadata": {},
   "outputs": [
    {
     "name": "stdout",
     "output_type": "stream",
     "text": [
      "['Hello']\n",
      "['Hello', 'Hello']\n",
      "['Hello', 'Hello', 'Hello']\n",
      "['Hello', 'Hello', 'Hello', 'Hello']\n",
      "['Hello', 'Hello', 'Hello', 'Hello', 'Hello']\n",
      "['Hello', 'Hello', 'Hello', 'Hello', 'Hello', 'Hello']\n",
      "['Hello', 'Hello', 'Hello', 'Hello', 'Hello', 'Hello', 'Hello']\n",
      "['Hello', 'Hello', 'Hello', 'Hello', 'Hello', 'Hello', 'Hello', 'Hello']\n"
     ]
    }
   ],
   "source": [
    "new_list = []\n",
    "\n",
    "def print_list():\n",
    "    new_list.append(\"Hello\")\n",
    "    print(new_list)\n",
    "\n",
    "root = Tk()\n",
    "new_frame = Frame().pack()\n",
    "Button(new_frame, text=\"press me\", command=print_list).pack()\n",
    "root.mainloop()"
   ]
  },
  {
   "cell_type": "code",
   "execution_count": null,
   "metadata": {},
   "outputs": [],
   "source": []
  }
 ],
 "metadata": {
  "kernelspec": {
   "display_name": "Python 3",
   "language": "python",
   "name": "python3"
  },
  "language_info": {
   "codemirror_mode": {
    "name": "ipython",
    "version": 3
   },
   "file_extension": ".py",
   "mimetype": "text/x-python",
   "name": "python",
   "nbconvert_exporter": "python",
   "pygments_lexer": "ipython3",
   "version": "3.7.4"
  }
 },
 "nbformat": 4,
 "nbformat_minor": 2
}
